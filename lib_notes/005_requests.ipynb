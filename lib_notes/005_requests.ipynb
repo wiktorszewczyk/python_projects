{
 "cells": [
  {
   "cell_type": "code",
   "execution_count": null,
   "metadata": {},
   "outputs": [],
   "source": [
    "import requests\n",
    "\n",
    "link = \"https://wikipedia.org/\"\n",
    "\n",
    "website_raw = requests.get(link)\n",
    "website_text = website_raw.text\n",
    "\n",
    "print(website_text)"
   ]
  }
 ],
 "metadata": {
  "language_info": {
   "name": "python"
  },
  "orig_nbformat": 4
 },
 "nbformat": 4,
 "nbformat_minor": 2
}
