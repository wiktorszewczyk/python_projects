{
 "cells": [
  {
   "cell_type": "code",
   "execution_count": null,
   "metadata": {},
   "outputs": [],
   "source": [
    "import random\n",
    "\n",
    "# random.choice(<list>) - chooses random variable from a list (string)\n",
    "\n",
    "## EXAMPLE 1 ##\n",
    "print()\n",
    "print(\"EXAMPLE 1: \")\n",
    "\n",
    "variables_list = [\"string\", True, 123, 3.14, [1, 2, 3]]\n",
    "\n",
    "print(random.choice(variables_list))\n",
    "print(random.choice(variables_list))\n",
    "print(random.choice(variables_list))\n",
    "\n",
    "# returns random variable from a list thrice\n",
    "\n",
    "## EXAMPLE 1 ##\n",
    "\n",
    "\n",
    "\n",
    "# random.sample(<list>, <number of samples>) - takes number of samples of random variables from a list (string)\n",
    "\n",
    "## EXAMPLE 2 ##\n",
    "print()\n",
    "print(\"EXAMPLE 2: \")\n",
    "\n",
    "letters = \"abcdef\"\n",
    "\n",
    "print(random.sample(letters, 3))\n",
    "print(random.sample(letters, 3))\n",
    "print(random.sample(letters, 5))\n",
    "print(random.sample(letters, 5))\n",
    "\n",
    "# returns a list of 3, 3, 5, 5 random variables\n",
    "\n",
    "## EXAMPLE 2 ##"
   ]
  }
 ],
 "metadata": {
  "language_info": {
   "name": "python"
  },
  "orig_nbformat": 4
 },
 "nbformat": 4,
 "nbformat_minor": 2
}
