{
 "cells": [
  {
   "cell_type": "markdown",
   "metadata": {},
   "source": [
    "# **IMPORT**"
   ]
  },
  {
   "cell_type": "markdown",
   "metadata": {},
   "source": [
    "---\n",
    "---"
   ]
  },
  {
   "cell_type": "markdown",
   "metadata": {},
   "source": [
    "## **1. import**\n",
    "Import enables us to use a certain library (collection of files) or self-made files in our code.\n",
    "\n",
    "Some libraries are already downloaded, but some require installation."
   ]
  },
  {
   "cell_type": "markdown",
   "metadata": {},
   "source": [
    "### **a. LIBRARIES**\n",
    "After importing a library we gain access to its methods.\n",
    "\n",
    "We can see the possibilities the library gives us by reading its documentation online.\n",
    "\n",
    "We can use methods with the help of ( **.** ) - **[library_name].[method_we_want_to_use]**"
   ]
  },
  {
   "cell_type": "code",
   "execution_count": 8,
   "metadata": {},
   "outputs": [
    {
     "name": "stdout",
     "output_type": "stream",
     "text": [
      "/var/www/flaga/python_projects/lib_notes\n"
     ]
    }
   ],
   "source": [
    "import os\n",
    "\n",
    "print(os.getcwd())                  # returns path to current file"
   ]
  },
  {
   "cell_type": "code",
   "execution_count": 7,
   "metadata": {},
   "outputs": [
    {
     "name": "stdout",
     "output_type": "stream",
     "text": [
      "3\n"
     ]
    }
   ],
   "source": [
    "import random\n",
    "\n",
    "print(random.choice([1, 2, 3]))     # returns random value from given list"
   ]
  },
  {
   "cell_type": "markdown",
   "metadata": {},
   "source": [
    "### **b. OWN FILES**\n",
    "After importing own file we gain access to its methods and functions.\n",
    "\n",
    "Works similarly to libraries, except from that we need to also include the path to this certain file (unless it is in the same folder)\n",
    "\n",
    "**TBD...**"
   ]
  },
  {
   "cell_type": "markdown",
   "metadata": {},
   "source": [
    "---"
   ]
  },
  {
   "cell_type": "markdown",
   "metadata": {},
   "source": [
    "## **2. from**\n",
    "We use **from** when we only need certain methods from a library or a file.\n",
    "\n",
    "It doesn't require full library or file to be downloaded, saving storage space and time."
   ]
  },
  {
   "cell_type": "code",
   "execution_count": 9,
   "metadata": {},
   "outputs": [
    {
     "name": "stdout",
     "output_type": "stream",
     "text": [
      "/var/www/flaga/python_projects/lib_notes\n"
     ]
    }
   ],
   "source": [
    "from os import getcwd\n",
    "\n",
    "print(os.getcwd())"
   ]
  },
  {
   "cell_type": "markdown",
   "metadata": {},
   "source": [
    "---\n",
    "---"
   ]
  }
 ],
 "metadata": {
  "interpreter": {
   "hash": "0909595b1f57aa5eafb1deb6f9b3b95ffc2e2deb25d91d91a62caa61618684cf"
  },
  "kernelspec": {
   "display_name": "Python 3.8.10 ('flagaenv': venv)",
   "language": "python",
   "name": "python3"
  },
  "language_info": {
   "codemirror_mode": {
    "name": "ipython",
    "version": 3
   },
   "file_extension": ".py",
   "mimetype": "text/x-python",
   "name": "python",
   "nbconvert_exporter": "python",
   "pygments_lexer": "ipython3",
   "version": "3.8.10"
  },
  "orig_nbformat": 4
 },
 "nbformat": 4,
 "nbformat_minor": 2
}
