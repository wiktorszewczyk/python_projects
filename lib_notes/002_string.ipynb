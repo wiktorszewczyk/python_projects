{
 "cells": [
  {
   "cell_type": "code",
   "execution_count": null,
   "metadata": {},
   "outputs": [],
   "source": [
    "import string\n",
    "\n",
    "lowercase = string.ascii_lowercase\n",
    "uppercase = string.ascii_uppercase\n",
    "letters = string.ascii_letters # lower and upper case\n",
    "digits = string.digits \n",
    "punctuation = string.punctuation\n",
    "\n",
    "whitespace = string.whitespace # ' \\t\\n\\r\\x0b\\x0c'\n",
    "hexdigits = string.hexdigits\n",
    "\n",
    "print(lowercase)\n",
    "print(uppercase)\n",
    "print(letters)\n",
    "print(digits)\n",
    "print(punctuation)\n",
    "print(whitespace)\n",
    "print(hexdigits)"
   ]
  }
 ],
 "metadata": {
  "language_info": {
   "name": "python"
  },
  "orig_nbformat": 4
 },
 "nbformat": 4,
 "nbformat_minor": 2
}
