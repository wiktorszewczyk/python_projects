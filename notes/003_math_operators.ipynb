{
 "cells": [
  {
   "cell_type": "markdown",
   "metadata": {},
   "source": [
    "# Built-in mathematical operators:\n",
    "# (+) - addition f.e. 2+2 return 4\n",
    "# (-) - subtraction f.e. 4-2 return 2\n",
    "# (*) - multiplication f.e. 3*4 returns 12\n",
    "# (/) - division\n",
    "# examples: 16/2 returns 8, 15/2 returns 7 BUT: (15.0/2), (15/2.0), (15.0/2.0) return 7.5, it depends it wanted variable if of int or float type\n",
    "# // - int division, gets rid of decimals\n",
    "# (**) - power f.e. 2**5 returns 32\n",
    "# (%) - modulo (returns a reminder)\n",
    "# examples: 16%2 returns 0, 13%2 returns 2, 19%4 returns 3;\n",
    "\n",
    "\n",
    "\"+=\", \"-=\":\n",
    "x = 10\n",
    "print(x)\n",
    "x += 1\n",
    "print(x)\n",
    "x = x + 1\n",
    "print(x) \n",
    "x -= 10\n",
    "print(x)\n",
    "x = x - 1\n",
    "print(x)"
   ]
  }
 ],
 "metadata": {
  "language_info": {
   "name": "python"
  },
  "orig_nbformat": 4
 },
 "nbformat": 4,
 "nbformat_minor": 2
}
