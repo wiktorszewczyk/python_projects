{
 "cells": [
  {
   "cell_type": "markdown",
   "metadata": {},
   "source": [
    "# **VARIABLES**"
   ]
  },
  {
   "cell_type": "markdown",
   "metadata": {},
   "source": [
    "---\n",
    "---"
   ]
  },
  {
   "cell_type": "markdown",
   "metadata": {},
   "source": [
    "## **1. VARIABLES**\n",
    "Variables are values assigned to a name we create. Values are assigned to variable using ( **=** ):"
   ]
  },
  {
   "cell_type": "code",
   "execution_count": 34,
   "metadata": {},
   "outputs": [
    {
     "name": "stdout",
     "output_type": "stream",
     "text": [
      "5\n",
      "text\n"
     ]
    }
   ],
   "source": [
    "number_five = 5\n",
    "print(number_five)\n",
    "\n",
    "my_text = \"text\"\n",
    "print(my_text)\n"
   ]
  },
  {
   "cell_type": "markdown",
   "metadata": {},
   "source": [
    "We can also overwrite variables:"
   ]
  },
  {
   "cell_type": "code",
   "execution_count": 35,
   "metadata": {},
   "outputs": [
    {
     "name": "stdout",
     "output_type": "stream",
     "text": [
      "1\n",
      "5\n"
     ]
    }
   ],
   "source": [
    "number = 1\n",
    "print(number)\n",
    "\n",
    "number = 5\n",
    "print(number)"
   ]
  },
  {
   "cell_type": "markdown",
   "metadata": {},
   "source": [
    "We can overwrite variables using the same or other variables:"
   ]
  },
  {
   "cell_type": "code",
   "execution_count": 36,
   "metadata": {},
   "outputs": [
    {
     "name": "stdout",
     "output_type": "stream",
     "text": [
      "1\n",
      "2\n",
      "10\n"
     ]
    }
   ],
   "source": [
    "number = 1\n",
    "print(number)\n",
    "\n",
    "number = number + 1\n",
    "print(number)\n",
    "\n",
    "number2 = 10\n",
    "number = number2\n",
    "print(number)"
   ]
  },
  {
   "cell_type": "markdown",
   "metadata": {},
   "source": [
    "Defining multiple variables at once:"
   ]
  },
  {
   "cell_type": "code",
   "execution_count": 37,
   "metadata": {},
   "outputs": [
    {
     "name": "stdout",
     "output_type": "stream",
     "text": [
      "text\n",
      "6\n",
      "hello\n"
     ]
    }
   ],
   "source": [
    "a, b, c = \"text\", 6, \"hello\"\n",
    "\n",
    "print(a)\n",
    "print(b)\n",
    "print(c)"
   ]
  },
  {
   "cell_type": "markdown",
   "metadata": {},
   "source": [
    "##### **WARNING**: Using a non-defined before variable causes an error!!!"
   ]
  },
  {
   "cell_type": "markdown",
   "metadata": {},
   "source": [
    "---"
   ]
  },
  {
   "cell_type": "markdown",
   "metadata": {},
   "source": [
    "## **2. SINGLE VALUE TYPES**"
   ]
  },
  {
   "cell_type": "markdown",
   "metadata": {},
   "source": [
    "### **a. INTEGER**\n",
    "integer type variable.\n",
    "\n",
    "f.e.:\n",
    "- 1 \n",
    "- 50 \n",
    "- 20109202910"
   ]
  },
  {
   "cell_type": "code",
   "execution_count": 38,
   "metadata": {},
   "outputs": [
    {
     "data": {
      "text/plain": [
       "int"
      ]
     },
     "execution_count": 38,
     "metadata": {},
     "output_type": "execute_result"
    }
   ],
   "source": [
    "int"
   ]
  },
  {
   "cell_type": "markdown",
   "metadata": {},
   "source": [
    "##### **NOTE:** int type can have other bases than Decimal.\n",
    "\n",
    "0b / 0B - Binary"
   ]
  },
  {
   "cell_type": "code",
   "execution_count": 39,
   "metadata": {},
   "outputs": [
    {
     "name": "stdout",
     "output_type": "stream",
     "text": [
      "2\n"
     ]
    }
   ],
   "source": [
    "print(0b10)"
   ]
  },
  {
   "cell_type": "markdown",
   "metadata": {},
   "source": [
    "0o / 0O - Octal"
   ]
  },
  {
   "cell_type": "code",
   "execution_count": 40,
   "metadata": {},
   "outputs": [
    {
     "name": "stdout",
     "output_type": "stream",
     "text": [
      "8\n"
     ]
    }
   ],
   "source": [
    "print(0o10)"
   ]
  },
  {
   "cell_type": "markdown",
   "metadata": {},
   "source": [
    "0x / 0X - Hexadecimal"
   ]
  },
  {
   "cell_type": "code",
   "execution_count": 41,
   "metadata": {},
   "outputs": [
    {
     "name": "stdout",
     "output_type": "stream",
     "text": [
      "16\n"
     ]
    }
   ],
   "source": [
    "print(0x10)"
   ]
  },
  {
   "cell_type": "markdown",
   "metadata": {},
   "source": [
    "### **b. FLOAT**\n",
    "float type variable contains floating-point number\n",
    "\n",
    "f.e.:\n",
    "- 1,5\n",
    "- 3.14159265\n",
    "- 999999.000001 "
   ]
  },
  {
   "cell_type": "code",
   "execution_count": 42,
   "metadata": {},
   "outputs": [
    {
     "data": {
      "text/plain": [
       "float"
      ]
     },
     "execution_count": 42,
     "metadata": {},
     "output_type": "execute_result"
    }
   ],
   "source": [
    "float"
   ]
  },
  {
   "cell_type": "markdown",
   "metadata": {},
   "source": [
    "##### **NOTE:** float type has its range."
   ]
  },
  {
   "cell_type": "code",
   "execution_count": 43,
   "metadata": {},
   "outputs": [
    {
     "name": "stdout",
     "output_type": "stream",
     "text": [
      "-inf\n",
      "-inf\n",
      "-1.7976931348623157e+308\n",
      "-5e-324\n",
      "0\n",
      "5e-324\n",
      "1.7976931348623157e+308\n",
      "inf\n",
      "inf\n"
     ]
    }
   ],
   "source": [
    "print(float('-inf'))              # negative infinity \n",
    "print(-1.8e+308)\n",
    "print(-1.7976931348623157e+308)   # smallest float that is not negative infinity \n",
    "\n",
    "print(-4.9406564584124654e-324)   # biggest negative float that is not zero\n",
    "print(0)                          # zero duh\n",
    "print(4.9406564584124654e-324)    # smallest positive float that is not zero\n",
    "\n",
    "print(1.7976931348623157e+308)    # biggest float that is not positive infinity\n",
    "print(1.8e+308)\n",
    "print(float('inf'))               # positive infinity"
   ]
  },
  {
   "cell_type": "markdown",
   "metadata": {},
   "source": [
    "### **c. COMPLEX**\n",
    "complex numbers are specified as [real part] + [imaginary part - j].\n",
    "\n",
    "f.e.:\n",
    "- 3j+2\n",
    "- 13+7j"
   ]
  },
  {
   "cell_type": "code",
   "execution_count": 44,
   "metadata": {},
   "outputs": [
    {
     "data": {
      "text/plain": [
       "complex"
      ]
     },
     "execution_count": 44,
     "metadata": {},
     "output_type": "execute_result"
    }
   ],
   "source": [
    "complex"
   ]
  },
  {
   "cell_type": "markdown",
   "metadata": {},
   "source": [
    "### **d. STRING**\n",
    "string type variable contains both letters and number delimited using ( **\" \"** ) or ( **' '** ).\n",
    "\n",
    "f.e.:\n",
    "- \"5 foxes\", \n",
    "- \"I hate myself.\" "
   ]
  },
  {
   "cell_type": "code",
   "execution_count": 45,
   "metadata": {},
   "outputs": [
    {
     "data": {
      "text/plain": [
       "str"
      ]
     },
     "execution_count": 45,
     "metadata": {},
     "output_type": "execute_result"
    }
   ],
   "source": [
    "str"
   ]
  },
  {
   "cell_type": "markdown",
   "metadata": {},
   "source": [
    "### **e. BOOLEAN**\n",
    "boolean variable is used to represent the truth value of an expression.\n",
    "- True - when the value is not empty and different than 0 (f.e.: 'text', \"string\", 10, 3.14, [1, 2, 3], (a, b ,c), {\"word1\": \"translation1\", \"word2\": \"translation2\"}).\n",
    "- False - when the value is empty or equal to 0 (f.e.: '', \"\", 0, 0.0, [], (), {}, None)."
   ]
  },
  {
   "cell_type": "code",
   "execution_count": 46,
   "metadata": {},
   "outputs": [
    {
     "data": {
      "text/plain": [
       "bool"
      ]
     },
     "execution_count": 46,
     "metadata": {},
     "output_type": "execute_result"
    }
   ],
   "source": [
    "bool"
   ]
  },
  {
   "cell_type": "markdown",
   "metadata": {},
   "source": [
    "### **f. NONE**\n",
    "none type is used when variable has no type.\n",
    "\n",
    "- None"
   ]
  },
  {
   "cell_type": "code",
   "execution_count": 47,
   "metadata": {},
   "outputs": [],
   "source": [
    "None"
   ]
  },
  {
   "cell_type": "markdown",
   "metadata": {},
   "source": [
    "---"
   ]
  },
  {
   "cell_type": "markdown",
   "metadata": {},
   "source": [
    "## **3. COLLECTIONS OF VALUES**\n",
    "There are variables used to store multiple arguments in one variable.\n",
    "\n",
    "Variables are divided with ( **,** )."
   ]
  },
  {
   "cell_type": "markdown",
   "metadata": {},
   "source": [
    "### **a. LIST**\n",
    "Delimited using ( **[]** ).\n",
    "\n",
    "Variables are indexed, the first item has index **[0]**, the second one - **[1]**, etc.\n",
    "\n",
    "f.e.:"
   ]
  },
  {
   "cell_type": "code",
   "execution_count": 48,
   "metadata": {},
   "outputs": [
    {
     "name": "stdout",
     "output_type": "stream",
     "text": [
      "[1, True, 'Whatever', 3.14, (3+12j), True]\n"
     ]
    }
   ],
   "source": [
    "list\n",
    "\n",
    "some_list = [1, True, \"Whatever\", 3.14, 3+12j, True]\n",
    "\n",
    "print(some_list)"
   ]
  },
  {
   "cell_type": "markdown",
   "metadata": {},
   "source": [
    "**List items are:**\n",
    "- ordered - the items have a defined order, that will not change (unless by using list methods).\n",
    "- changeable - the items can be changed, added, removed after creating a list.\n",
    "- allow duplicate values - lists can have items with the same value."
   ]
  },
  {
   "cell_type": "markdown",
   "metadata": {},
   "source": [
    "### **b. TUPLE**\n",
    "Delimited using ( **()** ).\n",
    "\n",
    "Variables are indexed, the first item has index **[0]**, the second one - **[1]**, etc.\n",
    "\n",
    "f.e.:"
   ]
  },
  {
   "cell_type": "code",
   "execution_count": 49,
   "metadata": {},
   "outputs": [
    {
     "name": "stdout",
     "output_type": "stream",
     "text": [
      "(1, True, 'Whatever', 3.14, (3+12j), True)\n"
     ]
    }
   ],
   "source": [
    "tuple\n",
    "\n",
    "some_tuple = (1, True, \"Whatever\", 3.14, 3+12j, True)\n",
    "\n",
    "print(some_tuple)"
   ]
  },
  {
   "cell_type": "markdown",
   "metadata": {},
   "source": [
    "**Tuple items are:**\n",
    "- ordered - the items have a defined order, that will not change.\n",
    "- unchangeable - the items cannot be changed, added, removed after creating a tuple.\n",
    "- allow duplicate values - tuples can have items with the same value."
   ]
  },
  {
   "cell_type": "markdown",
   "metadata": {},
   "source": [
    "### **c. SET**\n",
    "Delimited using ( **{}** )."
   ]
  },
  {
   "cell_type": "code",
   "execution_count": 50,
   "metadata": {},
   "outputs": [
    {
     "name": "stdout",
     "output_type": "stream",
     "text": [
      "{'text1', 'text3', 'text2'}\n"
     ]
    }
   ],
   "source": [
    "set\n",
    "\n",
    "some_set = {\"text1\", \"text2\", \"text3\"}\n",
    "\n",
    "print(some_set)"
   ]
  },
  {
   "cell_type": "markdown",
   "metadata": {},
   "source": [
    "**Set items are:**\n",
    "- unordered - the items do not have a defined order, that will not change.\n",
    "- unchangeable - the items cannot be changed, but can be added and removed after creating a set.\n",
    "- unindexed, does not allow duplicate values - sets cannot have items with the same value (they will be ignored)."
   ]
  },
  {
   "cell_type": "markdown",
   "metadata": {},
   "source": [
    "### **d. DICTIONARY**\n",
    "Delimited using ( **{}** )\n",
    "\n",
    "Stores values in pairs [key]:[value]\n",
    "\n",
    "Values can be referred using the key name.\n",
    "\n",
    "f.e.:"
   ]
  },
  {
   "cell_type": "code",
   "execution_count": 51,
   "metadata": {},
   "outputs": [
    {
     "name": "stdout",
     "output_type": "stream",
     "text": [
      "{'brand': 'Ford', 'model': 'Mustang', 'year': 1964}\n"
     ]
    }
   ],
   "source": [
    "dict\n",
    "\n",
    "some_dictionary = {\n",
    "  \"brand\": \"Ford\",\n",
    "  \"model\": \"Mustang\",\n",
    "  \"year\": 1964\n",
    "}\n",
    "\n",
    "print(some_dictionary)"
   ]
  },
  {
   "cell_type": "markdown",
   "metadata": {},
   "source": [
    "**Dictionary items are:**\n",
    "- ordered - the items have a defined order, that will not change.\n",
    "- unchangeable - the items cannot be changed, added, removed after creating a tuple.\n",
    "- does not allow duplicate values - dictionary cannot have items with the same key."
   ]
  },
  {
   "cell_type": "markdown",
   "metadata": {},
   "source": [
    "---"
   ]
  },
  {
   "cell_type": "markdown",
   "metadata": {},
   "source": [
    "## **3. type()**\n",
    "Function type() is used to check the type of variable:"
   ]
  },
  {
   "cell_type": "code",
   "execution_count": 52,
   "metadata": {},
   "outputs": [
    {
     "name": "stdout",
     "output_type": "stream",
     "text": [
      "<class 'int'>\n"
     ]
    }
   ],
   "source": [
    "some_int = 10\n",
    "type_of_some_int = type(some_int)\n",
    "print(type_of_some_int)"
   ]
  },
  {
   "cell_type": "markdown",
   "metadata": {},
   "source": [
    "To make things easier we don't make another variables to store type for such simple code.\n",
    "\n",
    "We won't make a variable to store a single value either.\n",
    "\n",
    "We just use a function inside another function, in this case type() in print().\n",
    "\n",
    "But this is not made according to the rules of clean code, educational purposes only!"
   ]
  },
  {
   "cell_type": "code",
   "execution_count": 53,
   "metadata": {},
   "outputs": [
    {
     "name": "stdout",
     "output_type": "stream",
     "text": [
      "<class 'float'>\n",
      "<class 'complex'>\n",
      "<class 'str'>\n",
      "<class 'bool'>\n",
      "<class 'list'>\n",
      "<class 'NoneType'>\n"
     ]
    }
   ],
   "source": [
    "print(type(3.14)) \n",
    "print(type(3+3j))\n",
    "print(type(\"string\"))\n",
    "print(type(False)) \n",
    "print(type([\"list\"]))\n",
    "print(type(None))"
   ]
  },
  {
   "cell_type": "markdown",
   "metadata": {},
   "source": [
    "---"
   ]
  },
  {
   "cell_type": "markdown",
   "metadata": {},
   "source": [
    "## **4. CHANGING VARIABLE TYPE**"
   ]
  },
  {
   "cell_type": "markdown",
   "metadata": {},
   "source": [
    "##### **WARNING:** Not every value can be converted to other variable type!!!"
   ]
  },
  {
   "cell_type": "markdown",
   "metadata": {},
   "source": [
    "**String** can be converted to other variables as long as it represents its values.\n",
    "\n",
    "f.e. \n",
    "- \"1\"\n",
    "- \"3.14\"\n",
    "- \"True\"\n",
    "\n",
    "**Integer** can be converted to str, float and bool (0 is equal to False, everything else is True).\n",
    "\n",
    "**Float** can be converted to str, int and bool (0.0 is equal to False, everything else is True).\n",
    "\n",
    "**Boolean** can be converted to str, int and float."
   ]
  },
  {
   "cell_type": "markdown",
   "metadata": {},
   "source": [
    "### **a. str()**\n",
    "str() function is used to convert value type in brackets to string:"
   ]
  },
  {
   "cell_type": "code",
   "execution_count": 54,
   "metadata": {},
   "outputs": [
    {
     "name": "stdout",
     "output_type": "stream",
     "text": [
      "10 <class 'str'>\n",
      "3.14 <class 'str'>\n",
      "False <class 'str'>\n"
     ]
    }
   ],
   "source": [
    "some_int = 10\n",
    "some_float = 3.14\n",
    "some_bool = False\n",
    "\n",
    "print(str(some_int), type(str(some_int)))\n",
    "print(str(some_float), type(str(some_float)))\n",
    "print(str(some_bool), type(str(some_bool)))"
   ]
  },
  {
   "cell_type": "markdown",
   "metadata": {},
   "source": [
    "### **b. int()**\n",
    "int() function is used to convert value type in brackets to integer:"
   ]
  },
  {
   "cell_type": "code",
   "execution_count": 55,
   "metadata": {},
   "outputs": [
    {
     "name": "stdout",
     "output_type": "stream",
     "text": [
      "100 <class 'int'>\n",
      "3 <class 'int'>\n",
      "0 <class 'int'>\n"
     ]
    }
   ],
   "source": [
    "some_string = \"100\"\n",
    "some_float = 3.14\n",
    "some_bool = False\n",
    "\n",
    "print(int(some_string), type(int(some_string)))\n",
    "print(int(some_float), type(int(some_float)))\n",
    "print(int(some_bool), type(int(some_bool)))"
   ]
  },
  {
   "cell_type": "markdown",
   "metadata": {},
   "source": [
    "### **c. float()**\n",
    "float() function is used to convert value type in brackets to float:"
   ]
  },
  {
   "cell_type": "code",
   "execution_count": 56,
   "metadata": {},
   "outputs": [
    {
     "name": "stdout",
     "output_type": "stream",
     "text": [
      "100.0 <class 'float'>\n",
      "10.0 <class 'float'>\n",
      "0.0 <class 'float'>\n"
     ]
    }
   ],
   "source": [
    "some_string = \"100\"\n",
    "some_int = 10\n",
    "some_bool = False\n",
    "\n",
    "print(float(some_string), type(float(some_string)))\n",
    "print(float(some_int), type(float(some_int)))\n",
    "print(float(some_bool), type(float(some_bool)))"
   ]
  },
  {
   "cell_type": "markdown",
   "metadata": {},
   "source": [
    "### **d. bool()**\n",
    "bool() function is used to convert value type in brackets to boolean:"
   ]
  },
  {
   "cell_type": "code",
   "execution_count": 57,
   "metadata": {},
   "outputs": [
    {
     "name": "stdout",
     "output_type": "stream",
     "text": [
      "True <class 'bool'>\n",
      "False <class 'bool'>\n",
      "True <class 'bool'>\n"
     ]
    }
   ],
   "source": [
    "some_string = \"100\"\n",
    "some_int = 0\n",
    "some_float = 3.14\n",
    "\n",
    "print(bool(some_string), type(bool(some_string)))\n",
    "print(bool(some_int), type(bool(some_int)))\n",
    "print(bool(some_float), type(bool(some_float)))"
   ]
  },
  {
   "cell_type": "markdown",
   "metadata": {},
   "source": [
    "---"
   ]
  },
  {
   "cell_type": "markdown",
   "metadata": {},
   "source": [
    "## **5. isinstance()**\n",
    "isinstance() is a function, which takes two values - variable and value type - and checks if the type of variable is equal to the entered value type:"
   ]
  },
  {
   "cell_type": "code",
   "execution_count": 58,
   "metadata": {},
   "outputs": [
    {
     "name": "stdout",
     "output_type": "stream",
     "text": [
      "True\n",
      "False\n"
     ]
    }
   ],
   "source": [
    "print(isinstance(\"string\", str))\n",
    "\n",
    "print(isinstance(1, str))"
   ]
  },
  {
   "cell_type": "code",
   "execution_count": 59,
   "metadata": {},
   "outputs": [
    {
     "name": "stdout",
     "output_type": "stream",
     "text": [
      "True\n",
      "False\n"
     ]
    }
   ],
   "source": [
    "print(isinstance(100, int))\n",
    "\n",
    "print(isinstance(1.8, int))"
   ]
  },
  {
   "cell_type": "code",
   "execution_count": 60,
   "metadata": {},
   "outputs": [
    {
     "name": "stdout",
     "output_type": "stream",
     "text": [
      "True\n",
      "False\n",
      "False\n"
     ]
    }
   ],
   "source": [
    "print(isinstance(1.8, float))\n",
    "\n",
    "print(isinstance(1, float))\n",
    "print(isinstance(\"string\", float))"
   ]
  },
  {
   "cell_type": "code",
   "execution_count": 61,
   "metadata": {},
   "outputs": [
    {
     "name": "stdout",
     "output_type": "stream",
     "text": [
      "True\n",
      "False\n",
      "False\n",
      "False\n"
     ]
    }
   ],
   "source": [
    "print(isinstance(True, bool))\n",
    "\n",
    "print(isinstance(1, bool))\n",
    "print(isinstance(0, bool))\n",
    "print(isinstance(\"string\", float))"
   ]
  },
  {
   "cell_type": "markdown",
   "metadata": {},
   "source": [
    "---\n",
    "---"
   ]
  }
 ],
 "metadata": {
  "interpreter": {
   "hash": "0909595b1f57aa5eafb1deb6f9b3b95ffc2e2deb25d91d91a62caa61618684cf"
  },
  "kernelspec": {
   "display_name": "Python 3.8.10 ('flagaenv': venv)",
   "language": "python",
   "name": "python3"
  },
  "language_info": {
   "codemirror_mode": {
    "name": "ipython",
    "version": 3
   },
   "file_extension": ".py",
   "mimetype": "text/x-python",
   "name": "python",
   "nbconvert_exporter": "python",
   "pygments_lexer": "ipython3",
   "version": "3.8.10"
  },
  "orig_nbformat": 4
 },
 "nbformat": 4,
 "nbformat_minor": 2
}
