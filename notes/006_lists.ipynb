{
 "cells": [
  {
   "cell_type": "markdown",
   "metadata": {},
   "source": [
    "# **LISTS**"
   ]
  },
  {
   "cell_type": "markdown",
   "metadata": {},
   "source": [
    "##### **NOTE:** Strings work as and can be used as lists of characters"
   ]
  },
  {
   "cell_type": "markdown",
   "metadata": {},
   "source": [
    "---\n",
    "---"
   ]
  },
  {
   "cell_type": "markdown",
   "metadata": {},
   "source": [
    "## **1. Creating a list**"
   ]
  },
  {
   "cell_type": "markdown",
   "metadata": {},
   "source": [
    "We can create an empty **list** in two ways."
   ]
  },
  {
   "cell_type": "code",
   "execution_count": 2,
   "metadata": {},
   "outputs": [],
   "source": [
    "some_list = list()\n",
    "some_other_list = []"
   ]
  },
  {
   "cell_type": "markdown",
   "metadata": {},
   "source": [
    "We can also specify list's contents while creating it."
   ]
  },
  {
   "cell_type": "code",
   "execution_count": 3,
   "metadata": {},
   "outputs": [
    {
     "name": "stdout",
     "output_type": "stream",
     "text": [
      "[1, 2, 3, 4, 5]\n",
      "['abc', 'def', 'ghi']\n"
     ]
    }
   ],
   "source": [
    "some_list = [1, 2, 3, 4, 5]\n",
    "some_other_list = [\"abc\", \"def\", \"ghi\"]\n",
    "\n",
    "print(some_list)\n",
    "print(some_other_list)"
   ]
  },
  {
   "cell_type": "markdown",
   "metadata": {},
   "source": [
    "---"
   ]
  },
  {
   "cell_type": "markdown",
   "metadata": {},
   "source": [
    "## **2. Getting information about the list**"
   ]
  },
  {
   "cell_type": "markdown",
   "metadata": {},
   "source": [
    "### **a. len()**\n",
    "Returns the length of a list."
   ]
  },
  {
   "cell_type": "code",
   "execution_count": 4,
   "metadata": {},
   "outputs": [
    {
     "name": "stdout",
     "output_type": "stream",
     "text": [
      "5\n"
     ]
    }
   ],
   "source": [
    "some_list = [1, 2, 3, 4, 5]\n",
    "\n",
    "length = len(some_list)\n",
    "print(length)\n"
   ]
  },
  {
   "cell_type": "code",
   "execution_count": 5,
   "metadata": {},
   "outputs": [
    {
     "name": "stdout",
     "output_type": "stream",
     "text": [
      "12\n"
     ]
    }
   ],
   "source": [
    "some_string = \"Hello world!\"\n",
    "\n",
    "length = len(some_string)\n",
    "print(length)"
   ]
  },
  {
   "cell_type": "markdown",
   "metadata": {},
   "source": [
    "### **b. min()**\n",
    "Returns the lowest element of list."
   ]
  },
  {
   "cell_type": "code",
   "execution_count": 6,
   "metadata": {},
   "outputs": [
    {
     "name": "stdout",
     "output_type": "stream",
     "text": [
      "13\n"
     ]
    }
   ],
   "source": [
    "some_list = [90, 13, 1002993, 17, 420, 69]\n",
    "\n",
    "lowest_value = min(some_list)\n",
    "print(lowest_value)"
   ]
  },
  {
   "cell_type": "markdown",
   "metadata": {},
   "source": [
    "### **c. max()**\n",
    "Returns the highest element of list."
   ]
  },
  {
   "cell_type": "code",
   "execution_count": 7,
   "metadata": {},
   "outputs": [
    {
     "name": "stdout",
     "output_type": "stream",
     "text": [
      "1002993\n"
     ]
    }
   ],
   "source": [
    "some_list = [90, 13, 1002993, 17, 420, 69]\n",
    "\n",
    "highest_value = max(some_list)\n",
    "print(highest_value)"
   ]
  },
  {
   "cell_type": "markdown",
   "metadata": {},
   "source": [
    "While it works understandably with characters (returns the lowest or highest one alphabetically), it reacts weirdly with lists of strings."
   ]
  },
  {
   "cell_type": "code",
   "execution_count": 8,
   "metadata": {},
   "outputs": [
    {
     "name": "stdout",
     "output_type": "stream",
     "text": [
      "a\n",
      "e\n",
      "\n",
      "Hello World!\n",
      "abcdef\n"
     ]
    }
   ],
   "source": [
    "some_list = ['e', 'c', 'd', 'a', 'b']\n",
    "\n",
    "print(min(some_list))\n",
    "print(max(some_list))\n",
    "\n",
    "print()\n",
    "\n",
    "some_list = ['abc', 'abcd', 'abcdef', 'Hello World!', 'XD']\n",
    "\n",
    "print(min(some_list))\n",
    "print(max(some_list))\n"
   ]
  },
  {
   "cell_type": "markdown",
   "metadata": {},
   "source": [
    "---"
   ]
  },
  {
   "cell_type": "markdown",
   "metadata": {},
   "source": [
    "## **3. Converting to other types of containers (set, tuple and back to list)**"
   ]
  },
  {
   "cell_type": "markdown",
   "metadata": {},
   "source": [
    "### **a. set()**\n",
    "When changing variable type from list to set by using **set()** function, we can remove duplicate values, but we lose the order they were put in."
   ]
  },
  {
   "cell_type": "code",
   "execution_count": 9,
   "metadata": {},
   "outputs": [
    {
     "name": "stdout",
     "output_type": "stream",
     "text": [
      "['a', 'a', 'b', 'c', 'c', 'c', 'd'] <class 'list'>\n",
      "{'c', 'a', 'b', 'd'} <class 'set'>\n"
     ]
    }
   ],
   "source": [
    "some_list = [\"a\", \"a\", \"b\", \"c\", \"c\", \"c\", \"d\"]\n",
    "print(some_list, type(some_list))\n",
    "\n",
    "some_set = set(some_list)\n",
    "print(some_set, type(some_set))"
   ]
  },
  {
   "cell_type": "markdown",
   "metadata": {},
   "source": [
    "### **b. tuple()**\n",
    "When converting list to tuple using **tuple()** function, we lose the ability to edit variables, but the elements stay in the right order\n"
   ]
  },
  {
   "cell_type": "code",
   "execution_count": 10,
   "metadata": {},
   "outputs": [
    {
     "name": "stdout",
     "output_type": "stream",
     "text": [
      "['a', 'b', 'c', 'd'] <class 'list'>\n",
      "('a', 'b', 'c', 'd') <class 'tuple'>\n"
     ]
    }
   ],
   "source": [
    "some_list = [\"a\", \"b\", \"c\", \"d\"]\n",
    "print(some_list, type(some_list))\n",
    "\n",
    "some_tuple = tuple(some_list)\n",
    "print(some_tuple, type(some_tuple))"
   ]
  },
  {
   "cell_type": "markdown",
   "metadata": {},
   "source": [
    "### **c. list()**\n",
    "We can convert other types of containers back to list to make their values ordered, indexed and changeable."
   ]
  },
  {
   "cell_type": "code",
   "execution_count": 11,
   "metadata": {},
   "outputs": [
    {
     "name": "stdout",
     "output_type": "stream",
     "text": [
      "['a', 'a', 'b', 'c', 'c', 'c', 'd'] <class 'list'>\n",
      "{'c', 'a', 'b', 'd'} <class 'set'>\n",
      "[1, 2, 3] <class 'list'>\n"
     ]
    }
   ],
   "source": [
    "some_list = [\"a\", \"a\", \"b\", \"c\", \"c\", \"c\", \"d\"]\n",
    "print(some_list, type(some_list))\n",
    "\n",
    "some_set = set(some_list)\n",
    "print(some_set, type(some_set))\n",
    "\n",
    "list_again = list([1, 2, 3])\n",
    "print(list_again, type(list_again))"
   ]
  },
  {
   "cell_type": "markdown",
   "metadata": {},
   "source": [
    "---"
   ]
  },
  {
   "cell_type": "markdown",
   "metadata": {},
   "source": [
    "## **4. Indexes**\n",
    "Indexes are used to call certain element from a list. Indexes start from 0 and can't exceed the number of elements."
   ]
  },
  {
   "cell_type": "code",
   "execution_count": 18,
   "metadata": {},
   "outputs": [
    {
     "name": "stdout",
     "output_type": "stream",
     "text": [
      "['a', 'b', 'c', 'd', 'e']\n",
      "a\n",
      "b\n",
      "c\n",
      "d\n",
      "e\n"
     ]
    }
   ],
   "source": [
    "some_list = ['a', 'b', 'c', 'd', 'e']\n",
    "\n",
    "print(some_list)\n",
    "print(some_list[0])\n",
    "print(some_list[1])\n",
    "print(some_list[2])\n",
    "print(some_list[3])\n",
    "print(some_list[4])\n",
    "# print(some_list[5])         # error\n"
   ]
  },
  {
   "cell_type": "markdown",
   "metadata": {},
   "source": [
    "We can use indexes in strings, too. As they are also a list."
   ]
  },
  {
   "cell_type": "code",
   "execution_count": 19,
   "metadata": {},
   "outputs": [
    {
     "name": "stdout",
     "output_type": "stream",
     "text": [
      "m\n"
     ]
    }
   ],
   "source": [
    "some_string = \"lmao\"\n",
    "print (some_string[1])"
   ]
  },
  {
   "cell_type": "markdown",
   "metadata": {},
   "source": [
    "##### **NOTE:** How to access the first symbol of a string that is a second element of a list. First, we use index **[1]** to find the second element of a list and then index **[0]** to get the first sign of that string element."
   ]
  },
  {
   "cell_type": "code",
   "execution_count": 20,
   "metadata": {},
   "outputs": [
    {
     "name": "stdout",
     "output_type": "stream",
     "text": [
      "x\n"
     ]
    }
   ],
   "source": [
    "some_other_list = [\"abc\", \"xyz\"]\n",
    "print(some_other_list[1][0])"
   ]
  },
  {
   "cell_type": "markdown",
   "metadata": {},
   "source": [
    "### **a. Indexing from the end of list**\n",
    "We can access the last element of a list by using **[-1]** index, second to last **[-2]** etc."
   ]
  },
  {
   "cell_type": "code",
   "execution_count": 22,
   "metadata": {},
   "outputs": [
    {
     "name": "stdout",
     "output_type": "stream",
     "text": [
      "e\n",
      "d\n"
     ]
    }
   ],
   "source": [
    "some_list = ['a', 'b', 'c', 'd', 'e']\n",
    "\n",
    "print(some_list[-1])\n",
    "print(some_list[-2])"
   ]
  },
  {
   "cell_type": "markdown",
   "metadata": {},
   "source": [
    "### **b. Getting a fragment of a list**\n",
    "We can use index in form of a **[x:y]** to get element from index **[x]** inclusive to index **[y]**."
   ]
  },
  {
   "cell_type": "code",
   "execution_count": 25,
   "metadata": {},
   "outputs": [
    {
     "name": "stdout",
     "output_type": "stream",
     "text": [
      "['b', 'c', 'd']\n"
     ]
    }
   ],
   "source": [
    "some_list = ['a', 'b', 'c', 'd', 'e']\n",
    "\n",
    "print(some_list[1:4])       # we get 2nd, 3rd and 4th element - indexes 1, 2 and 3"
   ]
  },
  {
   "cell_type": "markdown",
   "metadata": {},
   "source": [
    "### **c. Reversing a list**\n",
    "Index **[::-1]** reverses a list."
   ]
  },
  {
   "cell_type": "code",
   "execution_count": 2,
   "metadata": {},
   "outputs": [
    {
     "name": "stdout",
     "output_type": "stream",
     "text": [
      "['e', 'd', 'c', 'b', 'a']\n"
     ]
    }
   ],
   "source": [
    "some_list = ['a', 'b', 'c', 'd', 'e']\n",
    "reversed_list = some_list[::-1]\n",
    "\n",
    "print(reversed_list)"
   ]
  },
  {
   "cell_type": "markdown",
   "metadata": {},
   "source": [
    "### **d. Changing an element of a list**\n",
    "To change an element of a list we need to use certain index and than overwrite called element."
   ]
  },
  {
   "cell_type": "code",
   "execution_count": 5,
   "metadata": {},
   "outputs": [
    {
     "name": "stdout",
     "output_type": "stream",
     "text": [
      "empty\n",
      "\n",
      "3\n",
      "[1, 2, 3, 4, 5]\n"
     ]
    }
   ],
   "source": [
    "some_list = [1, 2, 'empty', 4, 5]\n",
    "\n",
    "print(some_list[2])         # 'empty' is the 3rd element of list so it has index [2]\n",
    "\n",
    "print()\n",
    "\n",
    "some_list[2] = 3\n",
    "print(some_list[2])\n",
    "print(some_list)"
   ]
  },
  {
   "cell_type": "markdown",
   "metadata": {},
   "source": [
    "### **e. Deleting an element of a list**\n",
    "Using **del** we can delete an element with certain index from a list."
   ]
  },
  {
   "cell_type": "code",
   "execution_count": 6,
   "metadata": {},
   "outputs": [
    {
     "name": "stdout",
     "output_type": "stream",
     "text": [
      "[1, 2, 4, 5]\n"
     ]
    }
   ],
   "source": [
    "some_list = [1, 2, 'empty', 4, 5]\n",
    "\n",
    "del some_list[2]         # 'empty' is the 3rd element of list so it has index [2]\n",
    "\n",
    "print(some_list)"
   ]
  },
  {
   "cell_type": "markdown",
   "metadata": {},
   "source": [
    "### **f. Finding element's index**\n",
    "Using **[list].index()** we can find what index has the element we are searching."
   ]
  },
  {
   "cell_type": "code",
   "execution_count": 7,
   "metadata": {},
   "outputs": [
    {
     "name": "stdout",
     "output_type": "stream",
     "text": [
      "2\n"
     ]
    }
   ],
   "source": [
    "some_list = [1, 2, 'empty', 4, 5]\n",
    "\n",
    "searched_element = 'empty'\n",
    "searched_index = some_list.index(searched_element)\n",
    "\n",
    "print(searched_index)"
   ]
  },
  {
   "cell_type": "markdown",
   "metadata": {},
   "source": [
    "### **g. Taking an element out of a list**\n",
    "Using **[list].pop()** we can obtain an element and then remove it from the list."
   ]
  },
  {
   "cell_type": "code",
   "execution_count": 8,
   "metadata": {},
   "outputs": [
    {
     "name": "stdout",
     "output_type": "stream",
     "text": [
      "b\n",
      "['a', 'c', 'd', 'e']\n",
      "\n",
      "c\n",
      "['a', 'd', 'e']\n"
     ]
    }
   ],
   "source": [
    "some_list = ['a', 'b', 'c', 'd', 'e']\n",
    "\n",
    "element1 = some_list.pop(1)         # We take the second element (index[1])\n",
    "print(element1)\n",
    "print(some_list)\n",
    "\n",
    "print()\n",
    "\n",
    "index = 1\n",
    "element2 = some_list.pop(index)     # We take the second element (index[1]), which is the third element of the original list, as one of the elements got removed causing the list to change\n",
    "print(element2)\n",
    "print(some_list)"
   ]
  },
  {
   "cell_type": "markdown",
   "metadata": {},
   "source": [
    "---"
   ]
  },
  {
   "cell_type": "markdown",
   "metadata": {},
   "source": [
    "## **5. Most important list's methods**"
   ]
  },
  {
   "cell_type": "markdown",
   "metadata": {},
   "source": [
    "### **a. [list].append()**\n",
    "**[list].append()** is used to add new elements to a list."
   ]
  },
  {
   "cell_type": "code",
   "execution_count": 11,
   "metadata": {},
   "outputs": [
    {
     "name": "stdout",
     "output_type": "stream",
     "text": [
      "[1, 2, 3, 4]\n",
      "\n",
      "[1, 2, 3, 4, 5]\n"
     ]
    }
   ],
   "source": [
    "some_list = [1, 2]\n",
    "\n",
    "some_list.append(3)\n",
    "some_list.append(4)\n",
    "\n",
    "print(some_list)\n",
    "\n",
    "print()\n",
    "\n",
    "new_element = 5\n",
    "some_list.append(new_element)\n",
    "\n",
    "print(some_list)"
   ]
  },
  {
   "cell_type": "markdown",
   "metadata": {},
   "source": [
    "### **b. [list].extend()**\n",
    "**[list].extend()** is used to add a list to another list, connects them. Order is important."
   ]
  },
  {
   "cell_type": "code",
   "execution_count": 17,
   "metadata": {},
   "outputs": [
    {
     "name": "stdout",
     "output_type": "stream",
     "text": [
      "['a', 'b', 'c', 'd']\n"
     ]
    }
   ],
   "source": [
    "list1 = ['a', 'b']\n",
    "list2 = ['c', 'd']\n",
    "\n",
    "list1.extend(list2)\n",
    "print(list1)"
   ]
  },
  {
   "cell_type": "code",
   "execution_count": 16,
   "metadata": {},
   "outputs": [
    {
     "name": "stdout",
     "output_type": "stream",
     "text": [
      "['c', 'd', 'a', 'b']\n"
     ]
    }
   ],
   "source": [
    "list1 = ['a', 'b']\n",
    "list2 = ['c', 'd']\n",
    "\n",
    "list2.extend(list1)\n",
    "print(list2)"
   ]
  },
  {
   "cell_type": "markdown",
   "metadata": {},
   "source": [
    "##### **NOTE:** It is also possible to connect lists using **(+)** sign just like when connecting strings"
   ]
  },
  {
   "cell_type": "code",
   "execution_count": 18,
   "metadata": {},
   "outputs": [
    {
     "name": "stdout",
     "output_type": "stream",
     "text": [
      "['a', 'b', 'c', 'd']\n",
      "['c', 'd', 'a', 'b']\n"
     ]
    }
   ],
   "source": [
    "list1 = ['a', 'b']\n",
    "list2 = ['c', 'd']\n",
    "\n",
    "new_list1 = list1 + list2\n",
    "print(new_list1)\n",
    "\n",
    "new_list2 = list2 + list1\n",
    "print(new_list2)"
   ]
  },
  {
   "cell_type": "markdown",
   "metadata": {},
   "source": [
    "### **c. [list].count()**\n",
    "**[list].count()** is used to count how many times certain element occurs in a list."
   ]
  },
  {
   "cell_type": "code",
   "execution_count": 20,
   "metadata": {},
   "outputs": [
    {
     "name": "stdout",
     "output_type": "stream",
     "text": [
      "4\n",
      "2\n",
      "0\n",
      "nice\n"
     ]
    }
   ],
   "source": [
    "some_list = [1, 3, 5, 4, 3, 6, 3, 3, 5, 6, 7]\n",
    "\n",
    "how_many_3 = some_list.count(3)\n",
    "print(how_many_3)\n",
    "\n",
    "how_many_6 = some_list.count(6)\n",
    "print(how_many_6)\n",
    "\n",
    "how_many_9 = some_list.count(9)\n",
    "print(how_many_9)\n",
    "\n",
    "print('nice')           # the 3 digit number was a coincidence so I had to add this message lol"
   ]
  },
  {
   "cell_type": "markdown",
   "metadata": {},
   "source": [
    "### **d. [list].reverse()**\n",
    "**[list].reverse()** reverses a list just like **[::-1]** index does."
   ]
  },
  {
   "cell_type": "code",
   "execution_count": 23,
   "metadata": {},
   "outputs": [
    {
     "name": "stdout",
     "output_type": "stream",
     "text": [
      "['e', 'd', 'c', 'b', 'a']\n"
     ]
    }
   ],
   "source": [
    "some_list = ['a', 'b', 'c', 'd', 'e']\n",
    "\n",
    "some_list.reverse()\n",
    "print(some_list)"
   ]
  },
  {
   "cell_type": "markdown",
   "metadata": {},
   "source": [
    "### **e. [list].clear()**\n",
    "**[list].clear()** empties the list just like **[list] = []** does."
   ]
  },
  {
   "cell_type": "code",
   "execution_count": 24,
   "metadata": {},
   "outputs": [
    {
     "name": "stdout",
     "output_type": "stream",
     "text": [
      "[]\n"
     ]
    }
   ],
   "source": [
    "some_list = ['a', 'b', 'c', 'd', 'e']\n",
    "\n",
    "some_list.clear()\n",
    "print(some_list)"
   ]
  },
  {
   "cell_type": "markdown",
   "metadata": {},
   "source": [
    "---\n",
    "---"
   ]
  },
  {
   "cell_type": "code",
   "execution_count": 21,
   "metadata": {},
   "outputs": [
    {
     "name": "stdout",
     "output_type": "stream",
     "text": [
      "\n",
      "EXAMPLE 3: \n",
      "number1\n",
      "number2\n",
      "number3\n",
      "\n",
      "Easter Egg\n",
      "\n",
      "number1\n",
      "number2\n",
      "number3\n",
      "Easter Egg\n",
      "\n",
      "EXAMPLE 4: \n",
      "some\n",
      "text\n",
      "divided\n",
      "with\n",
      "forward\n",
      "slash\n",
      "\n",
      "['some', 'text', 'divided', 'with', 'forward', 'slash']\n",
      "divided\n",
      "\n",
      "EXAMPLE 5: \n",
      "1\n",
      "2\n",
      "3\n",
      "4\n",
      "end of list\n",
      "\n",
      "EXAMPLE 6: \n",
      "d\n",
      "abcdf\n",
      "ab        cdf\n",
      "bcd\n",
      "bcd\n",
      "fdcba\n"
     ]
    }
   ],
   "source": [
    "<list>.reverse()\n",
    "# EXAMPLE 3 ##\n",
    "print()\n",
    "print(\"EXAMPLE 3: \")\n",
    "\n",
    "list = [\"number1\", \"number2\", \"number3\", \"Easter Egg\"]\n",
    "\n",
    "for x in range(3):\n",
    "    print (list[x])\n",
    "\n",
    "# prints elements assigned to 0, 1 and 2\n",
    "\n",
    "# to print Easter Egg we have to use:\n",
    "print()\n",
    "print(list[3])\n",
    "print()\n",
    "\n",
    "# or change the range of list \n",
    "# CARE: don't make the range bigger then lists size!!\n",
    "\n",
    "# len(<list>) - checks the length of <list> (which can be a string)\n",
    "\n",
    "list = [\"number1\", \"number2\", \"number3\", \"Easter Egg\"]\n",
    "\n",
    "for x in range(len(list)):\n",
    "    print (list[x])\n",
    "\n",
    "## EXAMPLE 3 ##\n",
    "\n",
    "\n",
    "\n",
    "# x.split(<repeating element>) - splits variable x when encounters <repeating element> creating a list\n",
    "\n",
    "## EXAMPLE 4 ##\n",
    "print()\n",
    "print(\"EXAMPLE 4: \")\n",
    "\n",
    "longstring = \"some/text/divided/with/forward/slash\"\n",
    "\n",
    "word_list = longstring.split(\"/\")\n",
    "\n",
    "for word in word_list:\n",
    "    print(word)\n",
    "\n",
    "# prints all elements of word_list created by .split() function\n",
    "\n",
    "print()\n",
    "print(word_list)\n",
    "print(word_list[2])\n",
    "\n",
    "## EXAMPLE 4 ##\n",
    "\n",
    "\n",
    "\n",
    "# list.append(x) - adds variable x to end of list \n",
    "\n",
    "## EXAMPLE 5 ##\n",
    "print()\n",
    "print(\"EXAMPLE 5: \")\n",
    "\n",
    "list = [1, 2, 3, 4]\n",
    "list.append(\"end of list\")\n",
    "\n",
    "for x in list:\n",
    "    print(x)\n",
    "\n",
    "## EXAMPLE 5 ##\n",
    "\n",
    "\n",
    "\n",
    "# list[2:4] - specifies the range of list\n",
    "# list[:20] - from the beginning of list to the 20th place\n",
    "# list[20:] - from the 20th place to the end of list\n",
    "# list[1:-1] - specifies the range of list (-) - places from the end of list\n",
    "# list[::-1] - puts the list in reversed order\n",
    "\n",
    "## EXAMPLE 6 ##\n",
    "print()\n",
    "print(\"EXAMPLE 6: \")\n",
    "\n",
    "string_list = \"abcdf\"\n",
    "\n",
    "print(string_list[3])\n",
    "print(string_list[:2] + string_list[2:])\n",
    "print(string_list[:2] + \"        \" + string_list[2:])\n",
    "print(string_list[1:4])\n",
    "print(string_list[1:-1])\n",
    "print(string_list[::-1])\n",
    "\n",
    "## EXAMPLE 6 ##\n"
   ]
  }
 ],
 "metadata": {
  "kernelspec": {
   "display_name": "Python 3.8.10 64-bit",
   "language": "python",
   "name": "python3"
  },
  "language_info": {
   "codemirror_mode": {
    "name": "ipython",
    "version": 3
   },
   "file_extension": ".py",
   "mimetype": "text/x-python",
   "name": "python",
   "nbconvert_exporter": "python",
   "pygments_lexer": "ipython3",
   "version": "3.8.10"
  },
  "orig_nbformat": 4,
  "vscode": {
   "interpreter": {
    "hash": "916dbcbb3f70747c44a77c7bcd40155683ae19c65e1c03b4aa3499c5328201f1"
   }
  }
 },
 "nbformat": 4,
 "nbformat_minor": 2
}
