{
 "cells": [
  {
   "cell_type": "code",
   "execution_count": null,
   "metadata": {},
   "outputs": [],
   "source": [
    "# def <function name>(<any number of variables needed to complete this function>) - defines a new function\n",
    "# function must be defined before we use it\n",
    "\n",
    "## EXAMPLE 1 ##\n",
    "print()\n",
    "print(\"EXAMPLE 1: \")\n",
    "\n",
    "def count_symbols(variable):\n",
    "    answer = len(variable)\n",
    "    return answer\n",
    "\n",
    "# function uses pre-defined function len() to count symbols\n",
    "\n",
    "print(count_symbols(\"Any sentence I want\"))\n",
    "\n",
    "# calls a function count_symbols which returns counted number of symbols in sent variable\n",
    "\n",
    "## EXAMPLE 1 ##\n",
    "\n",
    "\n",
    "\n",
    "## EXAMPLE 2 ##\n",
    "print()\n",
    "print(\"EXAMPLE 2: \")\n",
    "\n",
    "def loop (string, iterations):\n",
    "    for x in range (iterations):\n",
    "        print(string)\n",
    "\n",
    "# function loop prints variable <string> <iteration> amount of times\n",
    "\n",
    "loop(\"This is a loop\", 7)\n",
    "\n",
    "# prints \"This is a loop\" 7 times\n",
    "\n",
    "## EXAMPLE 2 ##\n"
   ]
  }
 ],
 "metadata": {
  "language_info": {
   "name": "python"
  },
  "orig_nbformat": 4
 },
 "nbformat": 4,
 "nbformat_minor": 2
}
