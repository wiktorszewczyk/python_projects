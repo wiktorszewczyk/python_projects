{
 "cells": [
  {
   "cell_type": "markdown",
   "metadata": {},
   "source": [
    "# **LOOPS**"
   ]
  },
  {
   "cell_type": "markdown",
   "metadata": {},
   "source": [
    "---\n",
    "---"
   ]
  },
  {
   "cell_type": "markdown",
   "metadata": {},
   "source": [
    "## **1. for**\n",
    "**for** loops make something for every iteration in specified range.\n",
    "\n",
    "for **[variable]** **[range]**:\n",
    "\n",
    "**[variable]** is a newly created value, which specifies the variable for every iteration, f.e. it can be a list element or an integer."
   ]
  },
  {
   "cell_type": "markdown",
   "metadata": {},
   "source": [
    "### **a. in**\n",
    "Iterating through list. With every iteration the **[variable]** is the next element of list in order."
   ]
  },
  {
   "cell_type": "code",
   "execution_count": 28,
   "metadata": {},
   "outputs": [
    {
     "name": "stdout",
     "output_type": "stream",
     "text": [
      "abc\n",
      "bcd\n",
      "cde\n",
      "def\n",
      "efg\n"
     ]
    }
   ],
   "source": [
    "some_list = [\"abc\", \"bcd\", \"cde\", \"def\", \"efg\"]\n",
    "\n",
    "for element in some_list:           # variable element is a list value\n",
    "    print(element)"
   ]
  },
  {
   "cell_type": "code",
   "execution_count": 29,
   "metadata": {},
   "outputs": [
    {
     "name": "stdout",
     "output_type": "stream",
     "text": [
      "t\n",
      "e\n",
      "x\n",
      "t\n"
     ]
    }
   ],
   "source": [
    "some_string = \"text\"\n",
    "\n",
    "for char in some_string:            # variable char is a character in string (element of a list)\n",
    "    print(char)"
   ]
  },
  {
   "cell_type": "markdown",
   "metadata": {},
   "source": [
    "### **b. in range()**\n",
    "Iterates for integers in specified range. Every iteration increases the integer by 1. **[variable]** is an integer.\n",
    "\n",
    "**range([x], [y])** starts with ( **[x]** ) and ends with ( **[y]-1** ). We can also only specify **[y]**, then **[x]** is equal to 0 by default."
   ]
  },
  {
   "cell_type": "code",
   "execution_count": 30,
   "metadata": {},
   "outputs": [
    {
     "name": "stdout",
     "output_type": "stream",
     "text": [
      "1\n",
      "2\n",
      "3\n",
      "4\n"
     ]
    }
   ],
   "source": [
    "for x in range(1, 5):\n",
    "    print(x)"
   ]
  },
  {
   "cell_type": "code",
   "execution_count": 31,
   "metadata": {},
   "outputs": [
    {
     "name": "stdout",
     "output_type": "stream",
     "text": [
      "0\n",
      "1\n",
      "2\n",
      "3\n",
      "4\n"
     ]
    }
   ],
   "source": [
    "for x in range(5):\n",
    "    print(x)"
   ]
  },
  {
   "cell_type": "code",
   "execution_count": 32,
   "metadata": {},
   "outputs": [
    {
     "name": "stdout",
     "output_type": "stream",
     "text": [
      "bcd\n",
      "cde\n",
      "def\n"
     ]
    }
   ],
   "source": [
    "some_list = [\"abc\", \"bcd\", \"cde\", \"def\", \"efg\"]\n",
    "\n",
    "for index in range(1, 4):                       # be careful with specifying list range using magic number!\n",
    "    print(some_list[index])                     # because it is easy to cause an IndexError!\n",
    "    # prints 2nd, 3rd and 4th list element because index [1] constains second element of the list      "
   ]
  },
  {
   "cell_type": "code",
   "execution_count": 33,
   "metadata": {},
   "outputs": [
    {
     "name": "stdout",
     "output_type": "stream",
     "text": [
      "bcd\n",
      "cde\n",
      "def\n"
     ]
    }
   ],
   "source": [
    "some_list = [\"abc\", \"bcd\", \"cde\", \"def\", \"efg\"] \n",
    "\n",
    "for index in range(1, len(some_list) - 1):       # that's better\n",
    "    print(some_list[index])\n",
    "    # prints 1st, 2nd and 3rd list element"
   ]
  },
  {
   "cell_type": "markdown",
   "metadata": {},
   "source": [
    "### **c. in enumerate()**\n",
    "For this range we need to specify two variables: the first **[variable]** is going to be the enumerated iteration, the second one is going to be the element of list we want to enumerate."
   ]
  },
  {
   "cell_type": "code",
   "execution_count": 34,
   "metadata": {},
   "outputs": [
    {
     "name": "stdout",
     "output_type": "stream",
     "text": [
      "0 abc\n",
      "1 bcd\n",
      "2 cde\n",
      "3 def\n",
      "4 efg\n"
     ]
    }
   ],
   "source": [
    "some_list = [\"abc\", \"bcd\", \"cde\", \"def\", \"efg\"] \n",
    "\n",
    "for iteration, element in enumerate(some_list):\n",
    "    print(iteration, element)"
   ]
  },
  {
   "cell_type": "markdown",
   "metadata": {},
   "source": [
    "---"
   ]
  },
  {
   "cell_type": "markdown",
   "metadata": {},
   "source": [
    "## **2. while**\n",
    "**while** loop makes something for each iteration while specified condition is True."
   ]
  },
  {
   "cell_type": "code",
   "execution_count": 1,
   "metadata": {},
   "outputs": [
    {
     "name": "stdout",
     "output_type": "stream",
     "text": [
      "0\n",
      "1\n",
      "2\n",
      "3\n",
      "4\n",
      "5\n",
      "6\n",
      "7\n",
      "8\n",
      "9\n"
     ]
    }
   ],
   "source": [
    "x = 0\n",
    "\n",
    "while True:             # infinite loop\n",
    "    print(x)\n",
    "    x += 1\n",
    "\n",
    "    if x == 10:         # added if condition to prevent compiler from breaking, because of said infinite loop\n",
    "        break           # BE CAREFUL! DELETE OR CHANGE AT YOUR OWN RISK!\n",
    "                        # to quit infinite loop press CTRL + C"
   ]
  },
  {
   "cell_type": "code",
   "execution_count": 2,
   "metadata": {},
   "outputs": [
    {
     "name": "stdout",
     "output_type": "stream",
     "text": [
      "0\n",
      "1\n",
      "2\n",
      "3\n",
      "4\n",
      "5\n",
      "6\n",
      "7\n",
      "8\n",
      "9\n"
     ]
    }
   ],
   "source": [
    "x = 0\n",
    "\n",
    "while x < 10:\n",
    "    print(x)\n",
    "    x +=1"
   ]
  },
  {
   "cell_type": "markdown",
   "metadata": {},
   "source": [
    "---"
   ]
  },
  {
   "cell_type": "markdown",
   "metadata": {},
   "source": [
    "## **3. Influencing the loop**"
   ]
  },
  {
   "cell_type": "markdown",
   "metadata": {},
   "source": [
    "### **a. break**\n",
    "**break** is used to stop the loop."
   ]
  },
  {
   "cell_type": "code",
   "execution_count": 6,
   "metadata": {},
   "outputs": [
    {
     "name": "stdout",
     "output_type": "stream",
     "text": [
      "0\n",
      "1\n",
      "2\n",
      "3\n"
     ]
    }
   ],
   "source": [
    "for i in range(6):      # should print numbers from 0 to 5\n",
    "\n",
    "    print(i)\n",
    "\n",
    "    if i == 3:          # but stops after printing number 3 \n",
    "        break"
   ]
  },
  {
   "cell_type": "code",
   "execution_count": 5,
   "metadata": {},
   "outputs": [
    {
     "name": "stdout",
     "output_type": "stream",
     "text": [
      "0\n",
      "1\n",
      "2\n"
     ]
    }
   ],
   "source": [
    "for i in range(6):      # should print numbers from 0 to 5\n",
    "\n",
    "    if i == 3:          # but stops before printing number 3\n",
    "        break\n",
    "\n",
    "    print(i)   "
   ]
  },
  {
   "cell_type": "markdown",
   "metadata": {},
   "source": [
    "### **b. continue**\n",
    "**continue** is used to skip to next iteration instantly."
   ]
  },
  {
   "cell_type": "code",
   "execution_count": 9,
   "metadata": {},
   "outputs": [
    {
     "name": "stdout",
     "output_type": "stream",
     "text": [
      "1\n",
      "2\n",
      "4\n",
      "5\n"
     ]
    }
   ],
   "source": [
    "for i in range(6):          # should print numbers from 0 to 5\n",
    "\n",
    "    if i == 0 or i == 3:    # but skips number 0 and 3\n",
    "        continue\n",
    "\n",
    "    print(i)"
   ]
  },
  {
   "cell_type": "markdown",
   "metadata": {},
   "source": [
    "### **c. pass**\n",
    "**pass** doesn't do anything, it can be only used as a reminder that certain parts of the code are yet to be done."
   ]
  },
  {
   "cell_type": "code",
   "execution_count": 11,
   "metadata": {},
   "outputs": [
    {
     "name": "stdout",
     "output_type": "stream",
     "text": [
      "0\n",
      "1\n",
      "2\n",
      "3\n",
      "4\n"
     ]
    }
   ],
   "source": [
    "for i in range(5):          # prints every number from 0 to 4\n",
    "    \n",
    "    if i == 1:\n",
    "        pass            \n",
    "\n",
    "    if i == 3:              \n",
    "        pass\n",
    "    \n",
    "    print(i)"
   ]
  },
  {
   "cell_type": "markdown",
   "metadata": {},
   "source": [
    "---"
   ]
  },
  {
   "cell_type": "markdown",
   "metadata": {},
   "source": [
    "## **4. Loops with more elements**\n",
    "We can simply define more variables to be iterated by writing them one after another."
   ]
  },
  {
   "cell_type": "code",
   "execution_count": 14,
   "metadata": {},
   "outputs": [
    {
     "name": "stdout",
     "output_type": "stream",
     "text": [
      "1 + 2 + 3 equals 6\n",
      "3 + 4 + 5 equals 12\n",
      "5 + 6 + 7 equals 18\n"
     ]
    }
   ],
   "source": [
    "some_list_of_tuples = [(1, 2, 3), (3, 4, 5), (5, 6, 7)]\n",
    "\n",
    "for a, b, c in some_list_of_tuples:\n",
    "    \n",
    "    print(a, \"+\", b, \"+\", c,  \"equals\", a + b + c)"
   ]
  },
  {
   "cell_type": "markdown",
   "metadata": {},
   "source": [
    "---"
   ]
  },
  {
   "cell_type": "markdown",
   "metadata": {},
   "source": [
    "## **5. iter(), next()**\n",
    "We can use **iter()** function to specify what we are going to iterate and than **next()** function to move to the next iteration. This way we receive a result equal to a loop."
   ]
  },
  {
   "cell_type": "code",
   "execution_count": 22,
   "metadata": {},
   "outputs": [
    {
     "name": "stdout",
     "output_type": "stream",
     "text": [
      "S\n",
      "o\n",
      "m\n",
      "e\n",
      "t\n",
      "h\n",
      "i\n",
      "n\n",
      "g\n"
     ]
    }
   ],
   "source": [
    "word_to_iterate = iter(\"Something\")\n",
    "\n",
    "print(next(word_to_iterate))\n",
    "print(next(word_to_iterate))\n",
    "print(next(word_to_iterate))\n",
    "print(next(word_to_iterate))\n",
    "print(next(word_to_iterate))\n",
    "print(next(word_to_iterate))\n",
    "print(next(word_to_iterate))\n",
    "print(next(word_to_iterate))\n",
    "print(next(word_to_iterate))"
   ]
  },
  {
   "cell_type": "markdown",
   "metadata": {},
   "source": [
    "---\n",
    "---"
   ]
  }
 ],
 "metadata": {
  "kernelspec": {
   "display_name": "Python 3.8.10 64-bit",
   "language": "python",
   "name": "python3"
  },
  "language_info": {
   "codemirror_mode": {
    "name": "ipython",
    "version": 3
   },
   "file_extension": ".py",
   "mimetype": "text/x-python",
   "name": "python",
   "nbconvert_exporter": "python",
   "pygments_lexer": "ipython3",
   "version": "3.8.10"
  },
  "orig_nbformat": 4,
  "vscode": {
   "interpreter": {
    "hash": "916dbcbb3f70747c44a77c7bcd40155683ae19c65e1c03b4aa3499c5328201f1"
   }
  }
 },
 "nbformat": 4,
 "nbformat_minor": 2
}
