{
 "cells": [
  {
   "cell_type": "markdown",
   "metadata": {},
   "source": [
    "# **DOCUMENTATION**"
   ]
  },
  {
   "cell_type": "markdown",
   "metadata": {},
   "source": [
    "---\n",
    "---"
   ]
  },
  {
   "cell_type": "markdown",
   "metadata": {},
   "source": [
    "## **1. COMMENTS**\n",
    "\n",
    "Comments are used to describe parts of code to make it more readable, quick edits in code by commenting parts of it, making notes etc.\n",
    "Commented text will not be read by code compiler."
   ]
  },
  {
   "cell_type": "markdown",
   "metadata": {},
   "source": [
    "### **a. Single line of comment**"
   ]
  },
  {
   "cell_type": "code",
   "execution_count": 14,
   "metadata": {},
   "outputs": [
    {
     "name": "stdout",
     "output_type": "stream",
     "text": [
      "code\n"
     ]
    }
   ],
   "source": [
    "# This line is a comment\n",
    "print(\"code\")\n"
   ]
  },
  {
   "cell_type": "markdown",
   "metadata": {},
   "source": [
    "You can also comment multiple lines in the way shown above:"
   ]
  },
  {
   "cell_type": "code",
   "execution_count": 15,
   "metadata": {},
   "outputs": [
    {
     "name": "stdout",
     "output_type": "stream",
     "text": [
      "code\n"
     ]
    }
   ],
   "source": [
    "# This line is a comment\n",
    "# This line is a comment\n",
    "\n",
    "# print(\"old code\")\n",
    "print(\"code\") # This code prints \"code\"\n",
    "\n",
    "# This line is a comment"
   ]
  },
  {
   "cell_type": "markdown",
   "metadata": {},
   "source": [
    "### **b. Block of comments**\n",
    "But it is easier to do it this way - by using ``` on both sides of the comment:"
   ]
  },
  {
   "cell_type": "code",
   "execution_count": 16,
   "metadata": {},
   "outputs": [
    {
     "name": "stdout",
     "output_type": "stream",
     "text": [
      "code\n"
     ]
    }
   ],
   "source": [
    "'''\n",
    "\n",
    "This line is a comment\n",
    "This line is a comment\n",
    "This line is a comment\n",
    "\n",
    "print(\"old code\")\n",
    "\n",
    "'''\n",
    "\n",
    "print(\"code\")"
   ]
  },
  {
   "cell_type": "markdown",
   "metadata": {},
   "source": [
    "-------"
   ]
  },
  {
   "cell_type": "markdown",
   "metadata": {},
   "source": [
    "## **2. CLEAN CODE**\n",
    "Summary of *Clean code* by Robert C. Martin.\n",
    "\n",
    "### **General rules**\n",
    "1. **Follow standard conventions.**\n",
    "2. **Keep it simple stupid. Simpler is always better. Reduce complexity as much as possible.**\n",
    "3. **Boy scout rule. Leave the campground cleaner than you found it.**\n",
    "4. **Always find root cause. Always look for the root cause of a problem.**"
   ]
  },
  {
   "cell_type": "markdown",
   "metadata": {},
   "source": [
    "### **Other important rules**\n",
    "1. Keep configurable data at high levels.\n",
    "2. Be consistent. If you do something a certain way, do all similar things in the same way.\n",
    "3. Choose descriptive names for file names, functions and variables.\n",
    "4. Replace magic numbers with named constants. (Make a new variable instead of using a number out of nowhere)\n",
    "5. Functions should be small, do one thing and few arguments.\n",
    "6. Comments should be simple, explain code and warn off consequences. \n",
    "7. Test should test one concept at a time, be readable, fast, independent und repeatable.\n",
    "8. Related code should appear dense.\n",
    "9. Declare variables close to their usage.\n",
    "10. Similar functions should be close."
   ]
  },
  {
   "cell_type": "markdown",
   "metadata": {},
   "source": [
    "### **Code is bad**\n",
    "1. Rigidity. The software is difficult to change, a small  change causes a cascade of subsequent changes.\n",
    "2. Fragility. The software breaks in many places due to a single change.\n",
    "3. Immobility. You cannot reuse parts of the code in other projects because of involved risks and high effort.\n",
    "4. Needless Complexity.\n",
    "5. Needless Repetition.\n",
    "6. Opacity. The code is hard to understand."
   ]
  },
  {
   "cell_type": "markdown",
   "metadata": {},
   "source": [
    "----------------------------------------------------------------------------"
   ]
  },
  {
   "cell_type": "markdown",
   "metadata": {},
   "source": [
    "## **3. PYTHON NAMING CONVENTION**\n",
    "\n",
    "![Python Naming Convention](https://i.stack.imgur.com/uBr10.png)"
   ]
  },
  {
   "cell_type": "markdown",
   "metadata": {},
   "source": [
    "*Internal* means internal to a module or protected or private within a class."
   ]
  }
 ],
 "metadata": {
  "interpreter": {
   "hash": "0909595b1f57aa5eafb1deb6f9b3b95ffc2e2deb25d91d91a62caa61618684cf"
  },
  "kernelspec": {
   "display_name": "Python 3.8.10 ('flagaenv': venv)",
   "language": "python",
   "name": "python3"
  },
  "language_info": {
   "codemirror_mode": {
    "name": "ipython",
    "version": 3
   },
   "file_extension": ".py",
   "mimetype": "text/x-python",
   "name": "python",
   "nbconvert_exporter": "python",
   "pygments_lexer": "ipython3",
   "version": "3.8.10"
  },
  "orig_nbformat": 4
 },
 "nbformat": 4,
 "nbformat_minor": 2
}
