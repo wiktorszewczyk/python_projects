{
 "cells": [
  {
   "cell_type": "markdown",
   "metadata": {},
   "source": [
    "# **CONDITIONAL STATEMENTS**"
   ]
  },
  {
   "cell_type": "markdown",
   "metadata": {},
   "source": [
    "---\n",
    "---"
   ]
  },
  {
   "cell_type": "markdown",
   "metadata": {},
   "source": [
    "## **1. CONDITIONAL STATEMENTS**"
   ]
  },
  {
   "cell_type": "markdown",
   "metadata": {},
   "source": [
    "### **a. if**\n",
    "**if** statement checks whether the following condition is met (returns true). If it is true, does the actions defined after ( **:** ) started with indentation ( **[Tab]** )"
   ]
  },
  {
   "cell_type": "code",
   "execution_count": 24,
   "metadata": {},
   "outputs": [
    {
     "name": "stdout",
     "output_type": "stream",
     "text": [
      "x is equal to y\n",
      "This is not a part of if statement\n"
     ]
    }
   ],
   "source": [
    "x = 1\n",
    "y = 1\n",
    "\n",
    "if x == y:\n",
    "    print(\"x is equal to y\")\n",
    "\n",
    "if x > y:\n",
    "    print(\"x is higher than y\")\n",
    "\n",
    "print(\"This is not a part of if statement\")"
   ]
  },
  {
   "cell_type": "markdown",
   "metadata": {},
   "source": [
    "### **b. elif**\n",
    "**elif** statement can be used only after **if** and there can be more than one. \n",
    "\n",
    "Similar to **if**, it checks whether the following condition is true and does the action defined after ( **:** ) and indentation ( **[Tab]** ), but only when previous conditions are **not** met."
   ]
  },
  {
   "cell_type": "code",
   "execution_count": 25,
   "metadata": {},
   "outputs": [
    {
     "name": "stdout",
     "output_type": "stream",
     "text": [
      "Today is Wednesday.\n",
      "This is not a part of if statement\n"
     ]
    }
   ],
   "source": [
    "day = \"Wednesday\"\n",
    "\n",
    "if day == \"Monday\":\n",
    "    print(\"Today is Monday.\")\n",
    "    \n",
    "elif day == \"Tuesday\":\n",
    "    print(\"Today is Tuesday.\")\n",
    "\n",
    "elif day == \"Wednesday\":\n",
    "    print(\"Today is Wednesday.\")\n",
    "\n",
    "elif day == \"Thursday\":\n",
    "    print(\"Today is Thursday.\")\n",
    "\n",
    "elif day == \"Friday\":\n",
    "    print(\"Today is Friday!\")\n",
    "\n",
    "elif day == \"Saturday\":\n",
    "    print(\"Today is Saturday!\")\n",
    "\n",
    "elif day == \"Sunday\":\n",
    "    print(\"Today is Sunday!\")\n",
    "    \n",
    "\n",
    "print(\"This is not a part of if statement\")"
   ]
  },
  {
   "cell_type": "markdown",
   "metadata": {},
   "source": [
    "### **c. else**\n",
    "**else** statement can be used only after **if** (or **elif**). \n",
    "It doesn't check any condition, only performs an action defined after ( **:** ) and indentation ( **[Tab]** ), but only when previous conditions are **not** met."
   ]
  },
  {
   "cell_type": "code",
   "execution_count": 26,
   "metadata": {},
   "outputs": [
    {
     "name": "stdout",
     "output_type": "stream",
     "text": [
      "This day does not exist.\n",
      "This is not a part of if statement\n"
     ]
    }
   ],
   "source": [
    "day = \"Frdayy\"\n",
    "\n",
    "if day == \"Monday\":\n",
    "    print(\"Today is Monday.\")\n",
    "    \n",
    "elif day == \"Tuesday\":\n",
    "    print(\"Today is Tuesday.\")\n",
    "\n",
    "elif day == \"Wednesday\":\n",
    "    print(\"Today is Wednesday.\")\n",
    "\n",
    "elif day == \"Thursday\":\n",
    "    print(\"Today is Thursday.\")\n",
    "\n",
    "elif day == \"Friday\":\n",
    "    print(\"Today is Friday!\")\n",
    "\n",
    "elif day == \"Saturday\":\n",
    "    print(\"Today is Saturday!\")\n",
    "\n",
    "elif day == \"Sunday\":\n",
    "    print(\"Today is Sunday!\")\n",
    "\n",
    "else:\n",
    "    print(\"This day does not exist.\")\n",
    "    \n",
    "\n",
    "print(\"This is not a part of if statement\")"
   ]
  },
  {
   "cell_type": "markdown",
   "metadata": {},
   "source": [
    "---"
   ]
  },
  {
   "cell_type": "markdown",
   "metadata": {},
   "source": [
    "## **2. MULTIPLE CONDITIONS AT ONCE**"
   ]
  },
  {
   "cell_type": "markdown",
   "metadata": {},
   "source": [
    "### **a. and**\n",
    "Both conditions must be met for certain if to perform."
   ]
  },
  {
   "cell_type": "code",
   "execution_count": 27,
   "metadata": {},
   "outputs": [
    {
     "name": "stdout",
     "output_type": "stream",
     "text": [
      "Statements were true\n"
     ]
    }
   ],
   "source": [
    "x = 1\n",
    "y = 3\n",
    "\n",
    "if x < y and x == 1:\n",
    "    print(\"Statements were true\")"
   ]
  },
  {
   "cell_type": "markdown",
   "metadata": {},
   "source": [
    "### **b. or**\n",
    "At least one of conditions must be met for certain if to perform."
   ]
  },
  {
   "cell_type": "code",
   "execution_count": 28,
   "metadata": {},
   "outputs": [
    {
     "name": "stdout",
     "output_type": "stream",
     "text": [
      "At least one statement was true\n"
     ]
    }
   ],
   "source": [
    "x = 1\n",
    "y = 3\n",
    "\n",
    "if x < y or x > y:\n",
    "    print(\"At least one statement was true\")"
   ]
  },
  {
   "cell_type": "markdown",
   "metadata": {},
   "source": [
    "### **c. COMBINATIONS**\n",
    "If we need more conditions we can use both **AND** and **OR** by properly putting those conditions in brackets."
   ]
  },
  {
   "cell_type": "code",
   "execution_count": 29,
   "metadata": {},
   "outputs": [
    {
     "name": "stdout",
     "output_type": "stream",
     "text": [
      "At least one of the brackets is true\n"
     ]
    }
   ],
   "source": [
    "x = 1\n",
    "y = 3\n",
    "\n",
    "a = 5\n",
    "b = 10\n",
    "\n",
    "if (x == 1 and y == 3) or (a == 1 and b == 3):\n",
    "    print(\"At least one of the brackets is true\")"
   ]
  },
  {
   "cell_type": "markdown",
   "metadata": {},
   "source": [
    "---"
   ]
  },
  {
   "cell_type": "markdown",
   "metadata": {},
   "source": [
    "## **3. in**\n",
    "Checks if certain element appears in another variable."
   ]
  },
  {
   "cell_type": "code",
   "execution_count": 30,
   "metadata": {},
   "outputs": [
    {
     "name": "stdout",
     "output_type": "stream",
     "text": [
      "We have a result for your search!\n"
     ]
    }
   ],
   "source": [
    "text = \"This is a very useful pack of notes for python\"\n",
    "search1 = \"python\"\n",
    "\n",
    "if search1 in text:\n",
    "    print(\"We have a result for your search!\")"
   ]
  },
  {
   "cell_type": "code",
   "execution_count": 31,
   "metadata": {},
   "outputs": [
    {
     "name": "stdout",
     "output_type": "stream",
     "text": [
      "We have a result for your search!\n"
     ]
    }
   ],
   "source": [
    "search1 = \"python\"\n",
    "search2 = \"useful\"\n",
    "search3 = \"notes\"\n",
    "\n",
    "if (search1 in text) and (search2 in text) and (search3 in text):\n",
    "    print(\"We have a result for your search!\")"
   ]
  },
  {
   "cell_type": "markdown",
   "metadata": {},
   "source": [
    "---"
   ]
  },
  {
   "cell_type": "markdown",
   "metadata": {},
   "source": [
    "## **4. all()**\n",
    "Returns true when all list elements are true (exist)."
   ]
  },
  {
   "cell_type": "code",
   "execution_count": 32,
   "metadata": {},
   "outputs": [
    {
     "name": "stdout",
     "output_type": "stream",
     "text": [
      "All elements in list are true (exist).\n"
     ]
    }
   ],
   "source": [
    "x = [True, True, True]\n",
    "\n",
    "if all(x):\n",
    "    print(\"All elements in list are true (exist).\")\n",
    "else:\n",
    "    print(\"Some elements are false.\")"
   ]
  },
  {
   "cell_type": "code",
   "execution_count": 33,
   "metadata": {},
   "outputs": [
    {
     "name": "stdout",
     "output_type": "stream",
     "text": [
      "All elements in list are true (exist).\n"
     ]
    }
   ],
   "source": [
    "x = [1, \"string\", True, [1, 2, 3]]\n",
    "\n",
    "if all(x):\n",
    "    print(\"All elements in list are true (exist).\")\n",
    "else:\n",
    "    print(\"Some elements are false.\")"
   ]
  },
  {
   "cell_type": "code",
   "execution_count": 34,
   "metadata": {},
   "outputs": [
    {
     "name": "stdout",
     "output_type": "stream",
     "text": [
      "Some elements are false.\n"
     ]
    }
   ],
   "source": [
    "x = [True, True, False]\n",
    "\n",
    "if all(x):\n",
    "    print(\"All elements in list are true (exist).\")\n",
    "else:\n",
    "    print(\"Some elements are false.\")"
   ]
  },
  {
   "cell_type": "code",
   "execution_count": 35,
   "metadata": {},
   "outputs": [
    {
     "name": "stdout",
     "output_type": "stream",
     "text": [
      "Some elements are false.\n"
     ]
    }
   ],
   "source": [
    "x = [\"\", True, 13, [1, 2, 3]]               # string element is empty (false)\n",
    "\n",
    "if all(x):\n",
    "    print(\"All elements in list are true (exist).\")\n",
    "else:\n",
    "    print(\"Some elements are false.\")"
   ]
  },
  {
   "cell_type": "markdown",
   "metadata": {},
   "source": [
    "## **5. any()**\n",
    "Returns true if any list element is true"
   ]
  },
  {
   "cell_type": "code",
   "execution_count": 36,
   "metadata": {},
   "outputs": [
    {
     "name": "stdout",
     "output_type": "stream",
     "text": [
      "At least one element is true (exists).\n"
     ]
    }
   ],
   "source": [
    "x = [False, False, True]\n",
    "\n",
    "if any(x):\n",
    "    print(\"At least one element is true (exists).\")\n",
    "else:\n",
    "    print(\"All elements are false.\")"
   ]
  },
  {
   "cell_type": "code",
   "execution_count": 37,
   "metadata": {},
   "outputs": [
    {
     "name": "stdout",
     "output_type": "stream",
     "text": [
      "At least one element is true (exists).\n"
     ]
    }
   ],
   "source": [
    "x = [\"\", False, 13, []]                     # only 13 is a true value\n",
    "\n",
    "if any(x):\n",
    "    print(\"At least one element is true (exists).\")\n",
    "else:\n",
    "    print(\"All elements are false.\")"
   ]
  },
  {
   "cell_type": "code",
   "execution_count": 38,
   "metadata": {},
   "outputs": [
    {
     "name": "stdout",
     "output_type": "stream",
     "text": [
      "All elements are false.\n"
     ]
    }
   ],
   "source": [
    "x = [False, False, False]\n",
    "\n",
    "if any(x):\n",
    "    print(\"At least one element is true (exists).\")\n",
    "else:\n",
    "    print(\"All elements are false.\")"
   ]
  },
  {
   "cell_type": "code",
   "execution_count": 39,
   "metadata": {},
   "outputs": [
    {
     "name": "stdout",
     "output_type": "stream",
     "text": [
      "All elements are false.\n"
     ]
    }
   ],
   "source": [
    "x = [\"\", False, 0, 0.0, []]\n",
    "\n",
    "if any(x):\n",
    "    print(\"At least one element is true (exists).\")\n",
    "else:\n",
    "    print(\"All elements are false.\")"
   ]
  },
  {
   "cell_type": "markdown",
   "metadata": {},
   "source": [
    "---\n",
    "---"
   ]
  }
 ],
 "metadata": {
  "interpreter": {
   "hash": "0909595b1f57aa5eafb1deb6f9b3b95ffc2e2deb25d91d91a62caa61618684cf"
  },
  "kernelspec": {
   "display_name": "Python 3.8.10 ('flagaenv': venv)",
   "language": "python",
   "name": "python3"
  },
  "language_info": {
   "codemirror_mode": {
    "name": "ipython",
    "version": 3
   },
   "file_extension": ".py",
   "mimetype": "text/x-python",
   "name": "python",
   "nbconvert_exporter": "python",
   "pygments_lexer": "ipython3",
   "version": "3.8.10"
  },
  "orig_nbformat": 4
 },
 "nbformat": 4,
 "nbformat_minor": 2
}
