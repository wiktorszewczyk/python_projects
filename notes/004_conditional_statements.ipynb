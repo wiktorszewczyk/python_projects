{
 "cells": [
  {
   "cell_type": "markdown",
   "metadata": {},
   "source": [
    "# **CONDITIONAL STATEMENTS**"
   ]
  },
  {
   "cell_type": "markdown",
   "metadata": {},
   "source": [
    "---\n",
    "---"
   ]
  },
  {
   "cell_type": "markdown",
   "metadata": {},
   "source": [
    "## **1. CONDITIONAL STATEMENTS**"
   ]
  },
  {
   "cell_type": "markdown",
   "metadata": {},
   "source": [
    "### **a. if**\n",
    "**if** statement checks whether the following condition is met (returns true). If it is true, does the actions defined after ( **:** ) started with indentation ( **[Tab]** )"
   ]
  },
  {
   "cell_type": "code",
   "execution_count": 1,
   "metadata": {},
   "outputs": [
    {
     "name": "stdout",
     "output_type": "stream",
     "text": [
      "x is equal to y\n",
      "This is not a part of if statement\n"
     ]
    }
   ],
   "source": [
    "x = 1\n",
    "y = 1\n",
    "\n",
    "if x == y:\n",
    "    print(\"x is equal to y\")\n",
    "\n",
    "if x > y:\n",
    "    print(\"x is higher than y\")\n",
    "\n",
    "print(\"This is not a part of if statement\")"
   ]
  },
  {
   "cell_type": "markdown",
   "metadata": {},
   "source": [
    "### **b. elif**\n",
    "**elif** statement can be used only after **if** and there can be more than one. \n",
    "\n",
    "Similar to **if**, it checks whether the following condition is true and does the action defined after ( **:** ) and indentation ( **[Tab]** ), but only when previous conditions are **not** met."
   ]
  },
  {
   "cell_type": "code",
   "execution_count": 2,
   "metadata": {},
   "outputs": [
    {
     "name": "stdout",
     "output_type": "stream",
     "text": [
      "Today is Wednesday.\n",
      "This is not a part of if statement\n"
     ]
    }
   ],
   "source": [
    "day = \"Wednesday\"\n",
    "\n",
    "if day == \"Monday\":\n",
    "    print(\"Today is Monday.\")\n",
    "    \n",
    "elif day == \"Tuesday\":\n",
    "    print(\"Today is Tuesday.\")\n",
    "\n",
    "elif day == \"Wednesday\":\n",
    "    print(\"Today is Wednesday.\")\n",
    "\n",
    "elif day == \"Thursday\":\n",
    "    print(\"Today is Thursday.\")\n",
    "\n",
    "elif day == \"Friday\":\n",
    "    print(\"Today is Friday!\")\n",
    "\n",
    "elif day == \"Saturday\":\n",
    "    print(\"Today is Saturday!\")\n",
    "\n",
    "elif day == \"Sunday\":\n",
    "    print(\"Today is Sunday!\")\n",
    "    \n",
    "\n",
    "print(\"This is not a part of if statement\")"
   ]
  },
  {
   "cell_type": "markdown",
   "metadata": {},
   "source": [
    "### **c. else**\n",
    "**else** statement can be used only after **if** (or **elif**). \n",
    "It doesn't check any condition, only performs an action defined after ( **:** ) and indentation ( **[Tab]** ), but only when previous conditions are **not** met."
   ]
  },
  {
   "cell_type": "code",
   "execution_count": 3,
   "metadata": {},
   "outputs": [
    {
     "name": "stdout",
     "output_type": "stream",
     "text": [
      "This day does not exist.\n",
      "This is not a part of if statement\n"
     ]
    }
   ],
   "source": [
    "day = \"Frdayy\"\n",
    "\n",
    "if day == \"Monday\":\n",
    "    print(\"Today is Monday.\")\n",
    "    \n",
    "elif day == \"Tuesday\":\n",
    "    print(\"Today is Tuesday.\")\n",
    "\n",
    "elif day == \"Wednesday\":\n",
    "    print(\"Today is Wednesday.\")\n",
    "\n",
    "elif day == \"Thursday\":\n",
    "    print(\"Today is Thursday.\")\n",
    "\n",
    "elif day == \"Friday\":\n",
    "    print(\"Today is Friday!\")\n",
    "\n",
    "elif day == \"Saturday\":\n",
    "    print(\"Today is Saturday!\")\n",
    "\n",
    "elif day == \"Sunday\":\n",
    "    print(\"Today is Sunday!\")\n",
    "\n",
    "else:\n",
    "    print(\"This day does not exist.\")\n",
    "    \n",
    "\n",
    "print(\"This is not a part of if statement\")"
   ]
  },
  {
   "cell_type": "markdown",
   "metadata": {},
   "source": [
    "---"
   ]
  },
  {
   "cell_type": "markdown",
   "metadata": {},
   "source": [
    "## **2. MULTIPLE CONDITIONS AT ONCE**"
   ]
  },
  {
   "cell_type": "markdown",
   "metadata": {},
   "source": [
    "### **a. AND**"
   ]
  },
  {
   "cell_type": "markdown",
   "metadata": {},
   "source": [
    "### **b. OR**"
   ]
  },
  {
   "cell_type": "markdown",
   "metadata": {},
   "source": [
    "---\n",
    "---"
   ]
  }
 ],
 "metadata": {
  "interpreter": {
   "hash": "0909595b1f57aa5eafb1deb6f9b3b95ffc2e2deb25d91d91a62caa61618684cf"
  },
  "kernelspec": {
   "display_name": "Python 3.8.10 ('flagaenv': venv)",
   "language": "python",
   "name": "python3"
  },
  "language_info": {
   "codemirror_mode": {
    "name": "ipython",
    "version": 3
   },
   "file_extension": ".py",
   "mimetype": "text/x-python",
   "name": "python",
   "nbconvert_exporter": "python",
   "pygments_lexer": "ipython3",
   "version": "3.8.10"
  },
  "orig_nbformat": 4
 },
 "nbformat": 4,
 "nbformat_minor": 2
}
